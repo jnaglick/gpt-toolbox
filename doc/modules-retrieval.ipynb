{
 "cells": [
  {
   "attachments": {},
   "cell_type": "markdown",
   "metadata": {},
   "source": [
    "### 🧰 modules overview: retrieval\n",
    "\n",
    "*Utilities for \"chatting your data\"*"
   ]
  },
  {
   "cell_type": "code",
   "execution_count": 1,
   "metadata": {},
   "outputs": [],
   "source": [
    "%load_ext autoreload\n",
    "%autoreload 2\n",
    "\n",
    "import json\n",
    "import os\n",
    "import sys\n",
    "from tqdm.notebook import tqdm\n",
    "\n",
    "sys.path.append(os.path.abspath(os.path.join(os.getcwd(), \"..\", \"src\"))) # hack for importing src/"
   ]
  },
  {
   "attachments": {},
   "cell_type": "markdown",
   "metadata": {},
   "source": [
    "the `retrieval` module exports `Retrievers`. These classes are essentially wrappers over a data source that internally extract meaningful chunks from the ingest data before storing it. They can then provide useful higher-level search functions over that data. This pattern is meant to accommodate the \"chat my data\" use case. As we'll show later with `PythonRetriever`, this pattern neatly abstracts the operations of parsing python (extraction), storing it, and making it queryable. \n",
    "\n",
    "To start, we'll look at the basic `DocumentRetriever`. Let's give it an in memory `Chroma` db (our own light-weight wrapper that implements our interface), index a few documents, and then search on them with natural language:"
   ]
  },
  {
   "cell_type": "code",
   "execution_count": 2,
   "metadata": {},
   "outputs": [
    {
     "name": "stderr",
     "output_type": "stream",
     "text": [
      "Using embedded DuckDB with persistence: data will be stored in: .chromadb\n"
     ]
    },
    {
     "data": {
      "application/vnd.jupyter.widget-view+json": {
       "model_id": "a76170b4035046c68aba28d895b7a8a6",
       "version_major": 2,
       "version_minor": 0
      },
      "text/plain": [
       "Adding documents to store:   0%|          | 0/1 [00:00<?, ?it/s]"
      ]
     },
     "metadata": {},
     "output_type": "display_data"
    },
    {
     "data": {
      "application/vnd.jupyter.widget-view+json": {
       "model_id": "f0f36a452c8a47f3969c78f62b4fd2aa",
       "version_major": 2,
       "version_minor": 0
      },
      "text/plain": [
       "Adding documents to store:   0%|          | 0/1 [00:00<?, ?it/s]"
      ]
     },
     "metadata": {},
     "output_type": "display_data"
    },
    {
     "data": {
      "application/vnd.jupyter.widget-view+json": {
       "model_id": "5bf33ab051004e86b65f1452e6c6b82e",
       "version_major": 2,
       "version_minor": 0
      },
      "text/plain": [
       "Adding documents to store:   0%|          | 0/1 [00:00<?, ?it/s]"
      ]
     },
     "metadata": {},
     "output_type": "display_data"
    }
   ],
   "source": [
    "from db import Chroma\n",
    "\n",
    "from retrieval import DocumentRetriever\n",
    "\n",
    "db = Chroma('basic-doc')\n",
    "\n",
    "retriever = DocumentRetriever(db)\n",
    "\n",
    "retriever.load(\"example one\")\n",
    "retriever.load(\"ejemplo dos\")\n",
    "retriever.load(\"exemple trois\")"
   ]
  },
  {
   "attachments": {},
   "cell_type": "markdown",
   "metadata": {},
   "source": [
    "Searches that have nothing in common with the exact document text produce the expected results - neat!"
   ]
  },
  {
   "cell_type": "code",
   "execution_count": 3,
   "metadata": {},
   "outputs": [
    {
     "name": "stdout",
     "output_type": "stream",
     "text": [
      "[QueryResult(_id='307f4958-712c-41c4-9cdc-e30296a2369d', document='exemple trois', metadata={'extracted_at': 1684887136}, distance=0.1796284317970276)]\n",
      "[QueryResult(_id='8b0312ba-37b7-489b-9989-e4314e8f5af4', document='ejemplo dos', metadata={'extracted_at': 1684887135}, distance=0.19525635242462158)]\n",
      "[QueryResult(_id='edcccf85-f196-4a7a-a5b8-62c440eeca9e', document='example one', metadata={'extracted_at': 1684887135}, distance=0.17287689447402954)]\n"
     ]
    }
   ],
   "source": [
    "print(retriever.query(\"written in french\", max_results=1))\n",
    "print(retriever.query(\"written in spanish\", max_results=1))\n",
    "print(retriever.query(\"first item\", max_results=1))"
   ]
  },
  {
   "attachments": {},
   "cell_type": "markdown",
   "metadata": {},
   "source": [
    "#### 🐍 Parsing code and getting metadata with `PythonExtractor`\n",
    "\n",
    "Before looking at the `PythonRetriever` exported by the top-level `retrieval` module, let's look at the more internal `PythonExtractor`. This is a configurable utility class that parses Python code and extracts meaningful chunks along with their associated metadata. The metadata includes where to locate the chunk (the file path and line number) and more. The result is something that is hopefully more useful for embedding to facilitate code search and \"chatting your data\" in general. As a bonus, the `PythonRetriever` module is able to provide useful higher-level search methods because of the metadata produced by the extractor.\n",
    "\n",
    "The default configuration of `PythonExtractor` produces a lot of redundant chunks. The chunks extracted include: entire modules, classes, functions (class methods each count as their own function), block comments (for docstrings), function/method calls, and variable assignments. So a docstring in a method, for instance, will get extracted many times. This is by design! However in your own production code, you can easily customize exactly what you want to extract by using the DI patterns (through constructor params) that are used in `retrieval` (and throughout gpt-toolbox!)"
   ]
  },
  {
   "cell_type": "code",
   "execution_count": 4,
   "metadata": {},
   "outputs": [
    {
     "name": "stdout",
     "output_type": "stream",
     "text": [
      "diving into /Users/jmn/Projects/gpt-toolbox/src...\n",
      "done. total items extracted: 544\n",
      "{\n",
      "  \"node_type\": \"module\",\n",
      "  \"output_type\": \"code\",\n",
      "  \"node_name\": \"\",\n",
      "  \"lineno\": \"\",\n",
      "  \"loc\": 123,\n",
      "  \"lloc\": 92,\n",
      "  \"sloc\": 91,\n",
      "  \"file_name\": \"python_extractor.py\",\n",
      "  \"file_path\": \"/Users/jmn/Projects/gpt-toolbox/src/retrieval/extract/python_extractor.py\",\n",
      "  \"last_modified_time\": 1684886914\n",
      "}\n"
     ]
    }
   ],
   "source": [
    "from retrieval.extract import PythonExtractor\n",
    "\n",
    "extractor = PythonExtractor()\n",
    "\n",
    "target_dir = os.path.join(os.getcwd(), \"..\", \"src\") # extract our own src/\n",
    "\n",
    "print(f\"diving into {os.path.abspath(target_dir)}...\")\n",
    "\n",
    "items = extractor.extract_from_directory(target_dir)\n",
    "\n",
    "print('done. total items extracted:', len(items))\n",
    "\n",
    "print(json.dumps(items[400].metadata, indent=2))"
   ]
  },
  {
   "attachments": {},
   "cell_type": "markdown",
   "metadata": {},
   "source": [
    "#### 📜 Indexing with `Chroma`\n",
    "\n",
    "**Warning: The following operations cost money! (~$0.02)**\n",
    "\n",
    "Now we'll step out of `retrieval` for a second and manually index everything we just extracted into Chroma to see how that looks (`retrievers` do this interally)\n",
    "\n",
    "Even though we are indexing a lot of redundant text (as mentioned before), it should only cost a few pennies (ada-002 is currently 1/50th the cost of gpt3.5, and there's no completion to worry about)"
   ]
  },
  {
   "cell_type": "code",
   "execution_count": 5,
   "metadata": {},
   "outputs": [
    {
     "name": "stderr",
     "output_type": "stream",
     "text": [
      "Using embedded DuckDB with persistence: data will be stored in: .chromadb\n"
     ]
    },
    {
     "name": "stdout",
     "output_type": "stream",
     "text": [
      "total documents in store: 1616\n"
     ]
    }
   ],
   "source": [
    "db = Chroma('python-example-1')\n",
    "print('total documents in store:', db.collection.count())"
   ]
  },
  {
   "cell_type": "code",
   "execution_count": 6,
   "metadata": {},
   "outputs": [
    {
     "data": {
      "application/vnd.jupyter.widget-view+json": {
       "model_id": "fea6381de2054c829e4235dca4e69d2e",
       "version_major": 2,
       "version_minor": 0
      },
      "text/plain": [
       "Adding documents to store:   0%|          | 0/544 [00:00<?, ?it/s]"
      ]
     },
     "metadata": {},
     "output_type": "display_data"
    },
    {
     "name": "stdout",
     "output_type": "stream",
     "text": [
      "total documents in store: 2160\n"
     ]
    }
   ],
   "source": [
    "for item in tqdm(items, desc=\"Adding documents to store\"):\n",
    "    db.add_document(item.document, item.metadata)\n",
    "\n",
    "db.client.persist() # only necessary in notebook context\n",
    "\n",
    "print('total documents in store:', db.collection.count())"
   ]
  },
  {
   "attachments": {},
   "cell_type": "markdown",
   "metadata": {},
   "source": [
    "#### 🔎 Searching\n",
    "\n",
    " With the chunks embedded, you can search the code using natural language or with exact references to symbols.  You can also filter on metadata for special searches, e.g. calls to a function, or searching only within docstrings."
   ]
  },
  {
   "cell_type": "code",
   "execution_count": 7,
   "metadata": {},
   "outputs": [
    {
     "name": "stdout",
     "output_type": "stream",
     "text": [
      "[\n",
      "  \"/Users/jmn/Projects/gpt-toolbox/src/agents/web/agent.py:28 prompt (method-code)\",\n",
      "  \"/Users/jmn/Projects/gpt-toolbox/src/agents/web/agent.py:28 prompt (method-code)\",\n",
      "  \"/Users/jmn/Projects/gpt-toolbox/src/agents/web/agent.py:28 prompt (method-code)\"\n",
      "]\n",
      "[\n",
      "  \"/Users/jmn/Projects/gpt-toolbox/src/plugin/api/schema.py:35 ShellRequest (class-code)\",\n",
      "  \"/Users/jmn/Projects/gpt-toolbox/src/plugin/api/schema.py:35 ShellRequest (class-code)\",\n",
      "  \"/Users/jmn/Projects/gpt-toolbox/src/plugin/api/schema.py:35 ShellRequest (class-code)\"\n",
      "]\n",
      "[\n",
      "  \"/Users/jmn/Projects/gpt-toolbox/src/llm/count_tokens.py:8 count_tokens (function-code)\",\n",
      "  \"/Users/jmn/Projects/gpt-toolbox/src/llm/count_tokens.py:8 count_tokens (function-code)\",\n",
      "  \"/Users/jmn/Projects/gpt-toolbox/src/llm/count_tokens.py:8 count_tokens (function-code)\",\n",
      "  \"/Users/jmn/Projects/gpt-toolbox/src/llm/count_tokens.py:8 count_tokens (function-code)\",\n",
      "  \"/Users/jmn/Projects/gpt-toolbox/src/llm/chat_completion.py:44 chat_completion_token_counts (function-code)\"\n",
      "]\n"
     ]
    }
   ],
   "source": [
    "def print_results_summary(results):\n",
    "    # using the metadata, we can show where, when, and how the chunk was extracted\n",
    "    lines = [\n",
    "        f\"{result.metadata['file_path']}:{result.metadata['lineno']} \" \n",
    "        f\"{result.metadata['node_name']} ({result.metadata['node_type']}-{result.metadata['output_type']})\"\n",
    "        #f\"last modified:{result.metadata['last_modified_time']} \"\n",
    "        #f\"doc_id:{result._id}\"\n",
    "        for result in results\n",
    "    ]\n",
    "    print(json.dumps(lines, indent=2))\n",
    "\n",
    "print_results_summary(db.query(\"system_prompt\", max_results=3))\n",
    "\n",
    "print_results_summary(db.query('schema/ShellRequest', max_results=3))\n",
    "\n",
    "print_results_summary(db.query(\"count tokens\", max_results=5))"
   ]
  },
  {
   "attachments": {},
   "cell_type": "markdown",
   "metadata": {},
   "source": [
    "#### 🧰 Putting it all together with `PythonRetriever`\n",
    "\n",
    "The \"retriever\" classes wrap the extractor and database operations we just manually did above. They provide a simple outward interface of `index` that extracts everything and stores it all in a database. Specific  retrievers can then provide their own specialized methods for higher-level searching.\n",
    "\n",
    "Here is `PythonRetriever`. Because it wraps `PythonExtractor`, it can provider higher-level convenience methods for searching on and around the metadata. Compare these to the same searches above!"
   ]
  },
  {
   "cell_type": "code",
   "execution_count": 8,
   "metadata": {},
   "outputs": [
    {
     "name": "stderr",
     "output_type": "stream",
     "text": [
      "Using embedded DuckDB with persistence: data will be stored in: .chromadb\n"
     ]
    },
    {
     "name": "stdout",
     "output_type": "stream",
     "text": [
      "total documents in store: 0\n"
     ]
    },
    {
     "data": {
      "application/vnd.jupyter.widget-view+json": {
       "model_id": "00d015c745564f82b5dae5815f54e73b",
       "version_major": 2,
       "version_minor": 0
      },
      "text/plain": [
       "Adding documents to store:   0%|          | 0/544 [00:00<?, ?it/s]"
      ]
     },
     "metadata": {},
     "output_type": "display_data"
    }
   ],
   "source": [
    "from retrieval import PythonRetriever\n",
    "\n",
    "# create a new database. we could easily re-use the same one as before, but we want to demo index()\n",
    "db = Chroma('python-example-2')\n",
    "print('total documents in store:', db.collection.count())\n",
    "\n",
    "retriever = PythonRetriever(db)\n",
    "\n",
    "# re-index the same stuff as before, but now through the PythonRetriever interface\n",
    "retriever.load_dir(os.path.join(os.getcwd(), \"..\", \"src\")) # again, our own src/\n"
   ]
  },
  {
   "cell_type": "code",
   "execution_count": 9,
   "metadata": {},
   "outputs": [
    {
     "name": "stdout",
     "output_type": "stream",
     "text": [
      "[\n",
      "  \"/Users/jmn/Projects/gpt-toolbox/src/agents/few_shot/agent.py:14 system_prompt (method-ast)\",\n",
      "  \"/Users/jmn/Projects/gpt-toolbox/src/agents/few_shot/agent.py:14 system_prompt (method-code)\"\n",
      "]\n",
      "[\n",
      "  \"/Users/jmn/Projects/gpt-toolbox/src/plugin/api/schema.py:35 ShellRequest (class-ast)\",\n",
      "  \"/Users/jmn/Projects/gpt-toolbox/src/plugin/api/schema.py:35 ShellRequest (class-code)\"\n",
      "]\n",
      "[\n",
      "  \"/Users/jmn/Projects/gpt-toolbox/src/plugin/api/routes/shell.py:8  (comment-comment)\",\n",
      "  \"/Users/jmn/Projects/gpt-toolbox/src/plugin/api/routes/search.py:20  (comment-comment)\",\n",
      "  \"/Users/jmn/Projects/gpt-toolbox/src/plugin/api/routes/url.py:13  (comment-comment)\"\n",
      "]\n",
      "[\n",
      "  \"/Users/jmn/Projects/gpt-toolbox/src/plugin/api/schema.py:38 ShellResult (class-code)\",\n",
      "  \"/Users/jmn/Projects/gpt-toolbox/src/plugin/api/schema.py:38 ShellResult (class-ast)\",\n",
      "  \"/Users/jmn/Projects/gpt-toolbox/src/plugin/api/schema.py:32 UrlResult (class-ast)\"\n",
      "]\n",
      "[\n",
      "  \"/Users/jmn/Projects/gpt-toolbox/src/llm/count_tokens.py:8 count_tokens (function-code)\",\n",
      "  \"/Users/jmn/Projects/gpt-toolbox/src/llm/chat_completion.py:44 chat_completion_token_counts (function-code)\",\n",
      "  \"/Users/jmn/Projects/gpt-toolbox/src/llm/count_tokens.py:8 count_tokens (function-ast)\",\n",
      "  \"/Users/jmn/Projects/gpt-toolbox/src/llm/chat_session.py:37 token_counts (method-code)\",\n",
      "  \"/Users/jmn/Projects/gpt-toolbox/src/llm/count_tokens.py:  (module-ast)\"\n",
      "]\n"
     ]
    }
   ],
   "source": [
    "# use the high-level search methods:\n",
    "print_results_summary(retriever.search_for_method(\"system_prompt\"))\n",
    "\n",
    "print_results_summary(retriever.search_for_class(\"ShellRequest\"))\n",
    "\n",
    "print_results_summary(retriever.search_comments(\"schema/ShellRequest\"))\n",
    "\n",
    "print_results_summary(retriever.search_in_file(\"/Users/jmn/Projects/gpt-toolbox/src/plugin/api/schema.py\", \"result\"))\n",
    "\n",
    "# or the basic:\n",
    "print_results_summary(retriever.query(\"count tokens\", max_results=5))"
   ]
  }
 ],
 "metadata": {
  "kernelspec": {
   "display_name": "venv",
   "language": "python",
   "name": "python3"
  },
  "language_info": {
   "codemirror_mode": {
    "name": "ipython",
    "version": 3
   },
   "file_extension": ".py",
   "mimetype": "text/x-python",
   "name": "python",
   "nbconvert_exporter": "python",
   "pygments_lexer": "ipython3",
   "version": "3.9.6"
  },
  "orig_nbformat": 4
 },
 "nbformat": 4,
 "nbformat_minor": 2
}
